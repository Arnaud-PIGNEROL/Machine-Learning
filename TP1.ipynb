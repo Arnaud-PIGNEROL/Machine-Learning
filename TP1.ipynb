{
 "cells": [
  {
   "cell_type": "code",
   "execution_count": 104,
   "metadata": {},
   "outputs": [],
   "source": [
    "import numpy as np\n",
    "import pandas as pd\n",
    "import matplotlib.pyplot as plt\n",
    "import math"
   ]
  },
  {
   "cell_type": "code",
   "execution_count": 7,
   "metadata": {},
   "outputs": [
    {
     "data": {
      "text/html": [
       "<div>\n",
       "<style scoped>\n",
       "    .dataframe tbody tr th:only-of-type {\n",
       "        vertical-align: middle;\n",
       "    }\n",
       "\n",
       "    .dataframe tbody tr th {\n",
       "        vertical-align: top;\n",
       "    }\n",
       "\n",
       "    .dataframe thead th {\n",
       "        text-align: right;\n",
       "    }\n",
       "</style>\n",
       "<table border=\"1\" class=\"dataframe\">\n",
       "  <thead>\n",
       "    <tr style=\"text-align: right;\">\n",
       "      <th></th>\n",
       "      <th>AT</th>\n",
       "      <th>V</th>\n",
       "      <th>AP</th>\n",
       "      <th>RH</th>\n",
       "      <th>PE</th>\n",
       "    </tr>\n",
       "  </thead>\n",
       "  <tbody>\n",
       "    <tr>\n",
       "      <th>0</th>\n",
       "      <td>14.96</td>\n",
       "      <td>41.76</td>\n",
       "      <td>1024.07</td>\n",
       "      <td>73.17</td>\n",
       "      <td>463.26</td>\n",
       "    </tr>\n",
       "    <tr>\n",
       "      <th>1</th>\n",
       "      <td>25.18</td>\n",
       "      <td>62.96</td>\n",
       "      <td>1020.04</td>\n",
       "      <td>59.08</td>\n",
       "      <td>444.37</td>\n",
       "    </tr>\n",
       "    <tr>\n",
       "      <th>2</th>\n",
       "      <td>5.11</td>\n",
       "      <td>39.40</td>\n",
       "      <td>1012.16</td>\n",
       "      <td>92.14</td>\n",
       "      <td>488.56</td>\n",
       "    </tr>\n",
       "    <tr>\n",
       "      <th>3</th>\n",
       "      <td>20.86</td>\n",
       "      <td>57.32</td>\n",
       "      <td>1010.24</td>\n",
       "      <td>76.64</td>\n",
       "      <td>446.48</td>\n",
       "    </tr>\n",
       "    <tr>\n",
       "      <th>4</th>\n",
       "      <td>10.82</td>\n",
       "      <td>37.50</td>\n",
       "      <td>1009.23</td>\n",
       "      <td>96.62</td>\n",
       "      <td>473.90</td>\n",
       "    </tr>\n",
       "  </tbody>\n",
       "</table>\n",
       "</div>"
      ],
      "text/plain": [
       "      AT      V       AP     RH      PE\n",
       "0  14.96  41.76  1024.07  73.17  463.26\n",
       "1  25.18  62.96  1020.04  59.08  444.37\n",
       "2   5.11  39.40  1012.16  92.14  488.56\n",
       "3  20.86  57.32  1010.24  76.64  446.48\n",
       "4  10.82  37.50  1009.23  96.62  473.90"
      ]
     },
     "execution_count": 7,
     "metadata": {},
     "output_type": "execute_result"
    }
   ],
   "source": [
    "df = pd.read_excel(\"D:\\efrei\\cours\\s7\\machine learning\\lab1\\CCPP\\Folds5x2_pp.xlsx\", sheet_name = 'Sheet1')\n",
    "df.head()"
   ]
  },
  {
   "cell_type": "code",
   "execution_count": 78,
   "metadata": {},
   "outputs": [
    {
     "data": {
      "text/plain": [
       "(6, 1)"
      ]
     },
     "execution_count": 78,
     "metadata": {},
     "output_type": "execute_result"
    }
   ],
   "source": [
    "def weight(df):\n",
    "    w = [1]\n",
    "    for i in range (0, len(df.axes[1])):\n",
    "        w.append(1)\n",
    "    \n",
    "    np.array(w)\n",
    "    \n",
    "    return np.transpose([w])\n",
    "\n",
    "\n",
    "w = weight(df)\n",
    "w.shape"
   ]
  },
  {
   "cell_type": "code",
   "execution_count": 79,
   "metadata": {},
   "outputs": [
    {
     "data": {
      "text/plain": [
       "(9568, 1)"
      ]
     },
     "execution_count": 79,
     "metadata": {},
     "output_type": "execute_result"
    }
   ],
   "source": [
    "def normalizeFeature(df, col):\n",
    "    y = []\n",
    "    for i in df[col]:\n",
    "        y.append(i)\n",
    "        \n",
    "    np.array(y)\n",
    "    return np.transpose([y])\n",
    "\n",
    "\n",
    "y = normalizeFeature(df, 'PE')\n",
    "y.shape"
   ]
  },
  {
   "cell_type": "code",
   "execution_count": 80,
   "metadata": {},
   "outputs": [
    {
     "data": {
      "text/plain": [
       "(6, 1)"
      ]
     },
     "execution_count": 80,
     "metadata": {},
     "output_type": "execute_result"
    }
   ],
   "source": [
    "def normalizeObservation(df, line):\n",
    "    x = np.array(1)\n",
    "    \n",
    "    for i in df.loc[line]:\n",
    "        x = np.append(x, i)\n",
    "    \n",
    "    return np.transpose([x])\n",
    "\n",
    "\n",
    "x = normalizeObservation(df, 0)\n",
    "x.shape"
   ]
  },
  {
   "cell_type": "code",
   "execution_count": 87,
   "metadata": {},
   "outputs": [
    {
     "data": {
      "text/plain": [
       "array([[1.00000e+00, 1.49600e+01, 4.17600e+01, 1.02407e+03, 7.31700e+01],\n",
       "       [1.00000e+00, 2.51800e+01, 6.29600e+01, 1.02004e+03, 5.90800e+01],\n",
       "       [1.00000e+00, 5.11000e+00, 3.94000e+01, 1.01216e+03, 9.21400e+01],\n",
       "       ...,\n",
       "       [1.00000e+00, 3.13200e+01, 7.43300e+01, 1.01292e+03, 3.64800e+01],\n",
       "       [1.00000e+00, 2.44800e+01, 6.94500e+01, 1.01386e+03, 6.23900e+01],\n",
       "       [1.00000e+00, 2.16000e+01, 6.25200e+01, 1.01723e+03, 6.78700e+01]])"
      ]
     },
     "execution_count": 87,
     "metadata": {},
     "output_type": "execute_result"
    }
   ],
   "source": [
    "def normalizeMatrix(df):    \n",
    "    X = np.zeros( (len(df.axes[0]), len(df.axes[1])) )\n",
    "        \n",
    "    # for i < nb_columns\n",
    "    # len(df.axes[1]) = 5\n",
    "    for i in range (0, len(df.axes[1])):\n",
    "        \n",
    "        # for j < nb_lines\n",
    "        # len(df.axes[0]) = 9568\n",
    "        for j in range (0, len(df.axes[0])):\n",
    "                        \n",
    "            x = normalizeObservation(df, j)\n",
    "            x = np.delete(x, i + 1)\n",
    "            \n",
    "            for k in range (0, len(x)):\n",
    "                X[j][k] = x[k]\n",
    "                \n",
    "    return X\n",
    "\n",
    "\n",
    "X = normalizeMatrix(df)\n",
    "X"
   ]
  },
  {
   "cell_type": "code",
   "execution_count": 113,
   "metadata": {},
   "outputs": [
    {
     "data": {
      "text/plain": [
       "80334.76455047532"
      ]
     },
     "execution_count": 113,
     "metadata": {},
     "output_type": "execute_result"
    }
   ],
   "source": [
    "def costFunction(df, multiplicator):\n",
    "    w = weight(df)\n",
    "    column_names = list(df.columns)\n",
    "    result = 0\n",
    "    \n",
    "    y = normalizeFeature(df, 'PE')\n",
    "    \n",
    "    # len(df.axes[0]) = 9568\n",
    "    for i in range (1, len(df.axes[0])):\n",
    "        \n",
    "        # len(df.axes[1]) = 5\n",
    "        x = normalizeObservation(df, i)\n",
    "        x = np.delete(x, len(df.axes[1]))\n",
    "                \n",
    "        # product of x * w\n",
    "        # aim of the for : w0 + (x1 * w1) + (x2 * w2) + ... + (xn * wn)\n",
    "        hwx = w[0]\n",
    "        for i in range(0, len(x)):\n",
    "            hwx = w[i] * x[i]\n",
    "                          \n",
    "                \n",
    "        if(type(multiplicator) is not list):\n",
    "            mult = (hwx - y[i])          \n",
    "            result += (hwx - y[i]) * (hwx - y[i])\n",
    "            \n",
    "        else : \n",
    "            result += (hwx - y[i]) * multiplicator[i]\n",
    "                \n",
    "    \n",
    "    result /= (2 * len(df.axes[0]))\n",
    "    \n",
    "    return result[0]\n",
    "\n",
    "\n",
    "\n",
    "J = costFunction(df, -1)\n",
    "J"
   ]
  },
  {
   "cell_type": "code",
   "execution_count": null,
   "metadata": {},
   "outputs": [],
   "source": [
    "def gradientDescent(df):\n",
    "    m = len(df.axes[0])     # len(df.axes[0]) = 9568\n",
    "    alpha = 0.03            # written in instructions\n",
    "    result = 0\n",
    "    \n",
    "    wk = 3\n",
    "    prev_wk = 10\n",
    "    \n",
    "    max_iterations = 1000   # written in instructions\n",
    "    iterations = 0\n",
    "    \n",
    "    \n",
    "    while( (prev_wk > alpha) | (iterations < max_iterations) ):\n",
    "        prev_wk = wk        \n",
    "        \n",
    "        \n",
    "        xk = normalizeObservation(df, iterations)\n",
    "        xk = np.delete(xk, len(df.axes[1]))\n",
    "        \n",
    "        J = costFunction(df, xk)\n",
    "        \n",
    "        J = math.sqrt(J) \n",
    "        J /= math.sqrt(len(df.axes[0]))\n",
    "        \n",
    "        \n",
    "        result = J * alpha\n",
    "                \n",
    "        wk -= result\n",
    "        iterations += 1\n",
    "    \n",
    "    return wk[0]\n",
    "\n",
    "\n",
    "\n",
    "\n",
    "wk = gradientDescent(df)\n",
    "wk"
   ]
  },
  {
   "cell_type": "code",
   "execution_count": null,
   "metadata": {},
   "outputs": [],
   "source": []
  }
 ],
 "metadata": {
  "kernelspec": {
   "display_name": "Python 3",
   "language": "python",
   "name": "python3"
  },
  "language_info": {
   "codemirror_mode": {
    "name": "ipython",
    "version": 3
   },
   "file_extension": ".py",
   "mimetype": "text/x-python",
   "name": "python",
   "nbconvert_exporter": "python",
   "pygments_lexer": "ipython3",
   "version": "3.8.2"
  }
 },
 "nbformat": 4,
 "nbformat_minor": 4
}
